{
 "cells": [
  {
   "attachments": {},
   "cell_type": "markdown",
   "id": "a83447c5",
   "metadata": {},
   "source": [
    "# EDA into European Laptop Market"
   ]
  },
  {
   "cell_type": "markdown",
   "id": "d6336b0c",
   "metadata": {},
   "source": [
    "## First Imports, Loading Data, and Taking a Peak into our Data"
   ]
  },
  {
   "cell_type": "code",
   "execution_count": null,
   "id": "14ff6a8c",
   "metadata": {},
   "outputs": [],
   "source": [
    "import pandas as pd\n",
    "import numpy as np\n",
    "import matplotlib as mpl\n",
    "import matplotlib.pyplot as plt\n",
    "import seaborn as sns\n",
    "import warnings\n",
    "import itertools\n",
    "warnings.filterwarnings('ignore')"
   ]
  },
  {
   "cell_type": "code",
   "execution_count": null,
   "id": "4a53cfce",
   "metadata": {},
   "outputs": [],
   "source": [
    "#source: https://www.kaggle.com/datasets/durgeshrao9993/laptop-specification-dataset\n",
    "df = pd.read_csv('laptop_price (1).csv', encoding='latin-1')\n",
    "df"
   ]
  },
  {
   "cell_type": "code",
   "execution_count": null,
   "id": "e916379d",
   "metadata": {},
   "outputs": [],
   "source": [
    "df.info()"
   ]
  },
  {
   "cell_type": "markdown",
   "id": "54bea7e9",
   "metadata": {},
   "source": [
    "## Data Cleaning Time\n",
    "\n",
    "### Good News No NaN values, however there is other problems \n",
    "   \n",
    "   - The data is does not have enough numerics to make a meanful statistical analysis \n",
    "   - A lot of the columns have useful data, but they need to parse to be used in a meaningful way"
   ]
  },
  {
   "cell_type": "markdown",
   "id": "4388fe87",
   "metadata": {},
   "source": [
    "# !!! IMPORANT: If you have to run any cell for a second time in this section you must restart the kernal and run all !!!"
   ]
  },
  {
   "cell_type": "markdown",
   "id": "21f7490a",
   "metadata": {},
   "source": [
    "#### Laptop ID is useless, let's drop it"
   ]
  },
  {
   "cell_type": "code",
   "execution_count": null,
   "id": "b1755cc3",
   "metadata": {},
   "outputs": [],
   "source": [
    "df.drop(['laptop_ID'], axis=1, inplace=True)"
   ]
  },
  {
   "cell_type": "markdown",
   "id": "46dca696",
   "metadata": {},
   "source": [
    "### Let's Get the Types of Cetrain Data\n",
    "   - Cpu (Computer Processing Unit)-> The comapny that makes that laptop's CUP (GPU_TYPE)\n",
    "   - Gpu (Graphic Processing Unit)-> The comapny that makes that laptop's GUP (GPU_TYPE)\n",
    "   - Memory -> The type of storage a laptop uses"
   ]
  },
  {
   "cell_type": "code",
   "execution_count": null,
   "id": "c31a56c1",
   "metadata": {},
   "outputs": [],
   "source": [
    "df.insert(6,'CPU_TYPE', df['Cpu'].map(lambda x: x.split(' ')[0]))\n",
    "df['CPU_TYPE'].unique()"
   ]
  },
  {
   "cell_type": "code",
   "execution_count": null,
   "id": "d4f4b6ce",
   "metadata": {},
   "outputs": [],
   "source": [
    "df.insert(10,'GPU_TYPE', df['Gpu'].map(lambda x: x.split(' ')[0]))\n",
    "df['GPU_TYPE'].unique()"
   ]
  },
  {
   "cell_type": "code",
   "execution_count": null,
   "id": "3c90d56e",
   "metadata": {
    "scrolled": true
   },
   "outputs": [],
   "source": [
    "df.insert(9,'Memory_TYPE', df['Memory'].map(lambda x: ' '.join(x.split(' ')[1:])))\n",
    "df['Memory_TYPE'].unique()"
   ]
  },
  {
   "cell_type": "markdown",
   "id": "5e10e1ca",
   "metadata": {},
   "source": [
    "### Too Many Types, Let's fix this\n",
    "   - Any \"+\" types arejust Hybrids unless they are the same type + the same type then will be maped to that type: \n",
    "   - Ex:\n",
    "   - SSD +  512GB SSD -> SSD\n",
    "   - SSD +  2TB HDD -> HDD"
   ]
  },
  {
   "cell_type": "code",
   "execution_count": null,
   "id": "3cedc9bf",
   "metadata": {},
   "outputs": [],
   "source": [
    "def parse_map(s):\n",
    "    ref = s.split(' ')\n",
    "    if '+' in ref:\n",
    "        if ref[0] == ref[-1]: return ref[0]\n",
    "        return 'Hybrid'\n",
    "    return s\n",
    "df['Memory_TYPE'] =  df['Memory_TYPE'].map(parse_map)\n",
    "df['Memory_TYPE'].unique()"
   ]
  },
  {
   "cell_type": "markdown",
   "id": "03aa37fe",
   "metadata": {},
   "source": [
    "### Let's Make a CM column (Meteric system is Important to Europeans )"
   ]
  },
  {
   "cell_type": "code",
   "execution_count": null,
   "id": "caf7f6c2",
   "metadata": {},
   "outputs": [],
   "source": [
    "df.insert(3,'CMs', df['Inches'].map(lambda x: round(x*2.54, 2)))\n",
    "df['CMs']"
   ]
  },
  {
   "cell_type": "markdown",
   "id": "911f08eb",
   "metadata": {},
   "source": [
    "### Let's Break down all the features in each laptop"
   ]
  },
  {
   "cell_type": "code",
   "execution_count": null,
   "id": "6733a5c6",
   "metadata": {},
   "outputs": [],
   "source": [
    "Screen_Extra_Specs = df['ScreenResolution'].map(lambda x: ' '.join(x.split(' ')[:-1]) if len(x.split(' ')) > 1 else 'None')\n",
    "Screen_Extra_Specs.unique()"
   ]
  },
  {
   "cell_type": "markdown",
   "id": "1a33b916",
   "metadata": {},
   "source": [
    "### Not Good enough, let's do better and put the features in a list "
   ]
  },
  {
   "cell_type": "code",
   "execution_count": null,
   "id": "60c155ee",
   "metadata": {},
   "outputs": [],
   "source": [
    "specs = ['IPS', 'Quad', 'Retina', 'Full', 'Touchscreen', 'Ultra']\n",
    "Screen_Extra_Specs = Screen_Extra_Specs.map(lambda x: [spec for spec in x.split(' ') if spec in specs]).map(lambda x: x + ['None'] if len(x) < 1 else x)\n",
    "Screen_Extra_Specs"
   ]
  },
  {
   "cell_type": "code",
   "execution_count": null,
   "id": "eeaea2a9",
   "metadata": {},
   "outputs": [],
   "source": [
    "def spec_map(s):\n",
    "    ref = {\n",
    "        'IPS' : 'IPS Panel',\n",
    "        'Quad' : 'Quad HD+',\n",
    "        'Retina' : 'Retina Display',\n",
    "        'Full' : 'Full HD',\n",
    "        'Ultra' : '4K Ultra HD'\n",
    "    }\n",
    "    if s in ref.keys(): return ref[s]\n",
    "    return s\n",
    "specs = [spec_map(s) for s in specs]\n",
    "Screen_Extra_Specs = Screen_Extra_Specs.map(lambda x: [spec_map(i) for i in x])\n",
    "Screen_Extra_Specs"
   ]
  },
  {
   "cell_type": "code",
   "execution_count": null,
   "id": "edd8d273",
   "metadata": {},
   "outputs": [],
   "source": [
    "df.insert(5,'Screen_Extra_Specs', Screen_Extra_Specs)\n",
    "df['Screen_Extra_Specs']"
   ]
  },
  {
   "cell_type": "markdown",
   "id": "04d1070c",
   "metadata": {},
   "source": [
    "### Let's keep a count of features "
   ]
  },
  {
   "cell_type": "code",
   "execution_count": null,
   "id": "e9c322f6",
   "metadata": {},
   "outputs": [],
   "source": [
    "df.insert(6,'Specs_Count', Screen_Extra_Specs.map(lambda x: 0 if 'None' in x else len(x)))\n",
    "df['Specs_Count']"
   ]
  },
  {
   "cell_type": "markdown",
   "id": "796b0ffa",
   "metadata": {},
   "source": [
    "### Let's parse and keep track of the pixels on each laptops"
   ]
  },
  {
   "cell_type": "code",
   "execution_count": null,
   "id": "ecbae125",
   "metadata": {},
   "outputs": [],
   "source": [
    "df.insert(5,'Pixel_Dimensions', df['ScreenResolution'].map(lambda x: x.split(' ')[-1]))\n",
    "df['Pixel_Dimensions'].unique()"
   ]
  },
  {
   "cell_type": "code",
   "execution_count": null,
   "id": "a03e1679",
   "metadata": {},
   "outputs": [],
   "source": [
    "df.insert(5,'Pixel_Area', df['ScreenResolution'].map(lambda x: x.split(' ')[-1]).map(lambda x: int(x.split('x')[0]) * int(x.split('x')[1])))\n",
    "df['Pixel_Area'].unique()"
   ]
  },
  {
   "cell_type": "markdown",
   "id": "a03c5deb",
   "metadata": {},
   "source": [
    "### Let's turn thoes string meteric to numerics"
   ]
  },
  {
   "cell_type": "code",
   "execution_count": null,
   "id": "0d9de6c4",
   "metadata": {},
   "outputs": [],
   "source": [
    "df.insert(9, 'Clock_Speed(GHz)', df['Cpu'].map(lambda x: x.split(' ')[-1][:3]).map(lambda x: float(x) if x[1] == '.' else int(x[0])))\n",
    "df['Clock_Speed(GHz)'].unique()"
   ]
  },
  {
   "cell_type": "code",
   "execution_count": null,
   "id": "8942f9f5",
   "metadata": {},
   "outputs": [],
   "source": [
    "df.rename(columns={'Ram' : 'RAM(GBs)'}, inplace=True)\n",
    "df['RAM(GBs)'] = df['RAM(GBs)'].map(lambda x: int(x[:-2]))\n",
    "df['RAM(GBs)'].unique()"
   ]
  },
  {
   "cell_type": "markdown",
   "id": "2b614b8c",
   "metadata": {},
   "source": [
    "### What is Kgs to American? Foreign, Let's add a a column in pounds"
   ]
  },
  {
   "cell_type": "code",
   "execution_count": null,
   "id": "7578b73f",
   "metadata": {},
   "outputs": [],
   "source": [
    "df.rename(columns={'Weight' : 'Weight(kgs)'}, inplace=True)\n",
    "df['Weight(kgs)'] = df['Weight(kgs)'].map(lambda x: float(x[:-2]))"
   ]
  },
  {
   "cell_type": "code",
   "execution_count": null,
   "id": "78944ce7",
   "metadata": {},
   "outputs": [],
   "source": [
    "df.insert(17, 'Weight(lbs)', df['Weight(kgs)'].map(lambda x: round(x*2.20462,2)))\n",
    "df[['Weight(lbs)', 'Weight(kgs)']]"
   ]
  },
  {
   "cell_type": "markdown",
   "id": "872ad847",
   "metadata": {},
   "source": [
    "### Anything in the OS column?"
   ]
  },
  {
   "cell_type": "code",
   "execution_count": null,
   "id": "7f84ae97",
   "metadata": {},
   "outputs": [],
   "source": [
    "df['OpSys'].value_counts()"
   ]
  },
  {
   "cell_type": "markdown",
   "id": "0f18213e",
   "metadata": {},
   "source": [
    "### What is a computer with 'No OS'....? Cant be!\n",
    "   -No OS means no Opertating system, no Opertating system mean no function, no function means I cant sell it\n",
    "### We can just replace them with Windows 10, since most laptops have Windows 10 installed in this dataset.\n",
    "   #### -Hold your horses,  Apple computers do not use windows 10, let's make sure no of these laptops are Apple laptops"
   ]
  },
  {
   "cell_type": "code",
   "execution_count": null,
   "id": "9616d0ca",
   "metadata": {},
   "outputs": [],
   "source": [
    "df[(df['OpSys'] == 'No OS')]['Company'].value_counts()"
   ]
  },
  {
   "cell_type": "code",
   "execution_count": null,
   "id": "86abb47d",
   "metadata": {},
   "outputs": [],
   "source": [
    "df[(df['OpSys'] == 'Mac OS X') | (df['OpSys'] == 'macOS')]['Company'].value_counts()['Apple'] == df['Company'].value_counts()['Apple']"
   ]
  },
  {
   "cell_type": "markdown",
   "id": "180e32a3",
   "metadata": {},
   "source": [
    "### Okay, no Apple computers without an OS, continue..."
   ]
  },
  {
   "cell_type": "code",
   "execution_count": null,
   "id": "fb0311f3",
   "metadata": {},
   "outputs": [],
   "source": [
    "df['OpSys'] = df['OpSys'].map(lambda x: 'Windows 10' if x == 'No OS' else x)\n",
    "df['OpSys'].unique()"
   ]
  },
  {
   "cell_type": "markdown",
   "id": "cbe9ce72",
   "metadata": {},
   "source": [
    "### These prices are out of date by a year... (currency wise), let's account for inflation"
   ]
  },
  {
   "cell_type": "code",
   "execution_count": null,
   "id": "52e6f7bb",
   "metadata": {},
   "outputs": [],
   "source": [
    "df['Price_in_euros'] = df['Price_in_euros'].map(lambda x: round(x*1.01, 2))"
   ]
  },
  {
   "cell_type": "markdown",
   "id": "8cbd854a",
   "metadata": {},
   "source": [
    "### Europeans have a VAT -> Value Added Tax (about 21% on average), in American terms the sales tax is in the price. \n",
    "- Let's get the base value of the laptops"
   ]
  },
  {
   "cell_type": "code",
   "execution_count": null,
   "id": "de078176",
   "metadata": {},
   "outputs": [],
   "source": [
    "df['Price_EUR_Before_VAT'] = df['Price_in_euros'].map(lambda x: round(x/1.21, 2))\n",
    "df[['Price_EUR_Before_VAT', 'Price_in_euros']]"
   ]
  },
  {
   "cell_type": "markdown",
   "id": "a6fd23ea",
   "metadata": {},
   "source": [
    "### Now that VAT is off we can the price as Americans can see it "
   ]
  },
  {
   "cell_type": "code",
   "execution_count": null,
   "id": "6c699093",
   "metadata": {},
   "outputs": [],
   "source": [
    "df['Price_USD'] = df['Price_in_euros'].map(lambda x: round(x*1.09, 2))\n",
    "df['Price_USD_Before_VAT'] = df['Price_EUR_Before_VAT'].map(lambda x: round(x*1.09, 2))"
   ]
  },
  {
   "cell_type": "code",
   "execution_count": null,
   "id": "deae108f",
   "metadata": {},
   "outputs": [],
   "source": [
    "df[['Price_in_euros', 'Price_USD','Price_USD_Before_VAT']]"
   ]
  },
  {
   "cell_type": "markdown",
   "id": "847a609c",
   "metadata": {},
   "source": [
    "### Ah the UK, the most influential contry in europe doesnt use Euros and has a different VAT in their prices"
   ]
  },
  {
   "cell_type": "code",
   "execution_count": null,
   "id": "8635dd74",
   "metadata": {},
   "outputs": [],
   "source": [
    "df['Price_GBP'] = df['Price_EUR_Before_VAT'].map(lambda x: round(x*1.20, 2)).map(lambda x: round(x*.85, 2))"
   ]
  },
  {
   "cell_type": "code",
   "execution_count": null,
   "id": "06d3dec5",
   "metadata": {},
   "outputs": [],
   "source": [
    "df[['Price_in_euros', 'Price_GBP']]"
   ]
  },
  {
   "cell_type": "markdown",
   "id": "90fb8223",
   "metadata": {},
   "source": [
    "## Data Clean is Done!\n",
    "   - Let's rename some columns and get a review of the new and improved data set"
   ]
  },
  {
   "cell_type": "code",
   "execution_count": null,
   "id": "c645fe59",
   "metadata": {},
   "outputs": [],
   "source": [
    "df.rename(columns={'Price_in_euros' : 'Price_EUR', 'Price_USD' : 'Price_USD_With_VAT', 'Price_USD_Before_VAT' : 'Price_USD'}, inplace=True)"
   ]
  },
  {
   "cell_type": "code",
   "execution_count": null,
   "id": "e441b8a5",
   "metadata": {},
   "outputs": [],
   "source": [
    "df"
   ]
  },
  {
   "cell_type": "code",
   "execution_count": null,
   "id": "3a5cbfef",
   "metadata": {},
   "outputs": [],
   "source": [
    "df.info()"
   ]
  },
  {
   "cell_type": "markdown",
   "id": "f988f04f",
   "metadata": {},
   "source": [
    "#### Since ScreenResolution can be put togeter and from Pixel_Dimensions and Screen_Extra_Specs it has no use, so let's drop like it's hot"
   ]
  },
  {
   "cell_type": "code",
   "execution_count": null,
   "id": "2cc759d4",
   "metadata": {},
   "outputs": [],
   "source": [
    "df.drop(['ScreenResolution'], axis=1, inplace=True) "
   ]
  },
  {
   "cell_type": "code",
   "execution_count": null,
   "id": "04a5e152",
   "metadata": {},
   "outputs": [],
   "source": [
    "df.info()"
   ]
  },
  {
   "cell_type": "markdown",
   "id": "966861fd",
   "metadata": {},
   "source": [
    "# Data Exploratory Analysis Part 1\n",
    " - For each major non-numeric column can we see which unique values that appear in a notible volume have:\n",
    "     - A wide range of prices?\n",
    "     - A narrowest range of prices?\n",
    "     - Which has more expensive prices?\n",
    "     - Which has more cheapest prices?\n",
    "     - Do any distribution change with currencies?\n",
    "     - Is Anything else notible?"
   ]
  },
  {
   "cell_type": "code",
   "execution_count": null,
   "id": "1f4efe8d",
   "metadata": {},
   "outputs": [],
   "source": [
    "def describe(df): \n",
    "    df = df.describe()\n",
    "    df['range'] = df['max'] - df['min']\n",
    "    return df.applymap(lambda x: f\"{x:0.2f}\")"
   ]
  },
  {
   "cell_type": "markdown",
   "id": "e2325bfb",
   "metadata": {},
   "source": [
    "## Companies"
   ]
  },
  {
   "cell_type": "code",
   "execution_count": null,
   "id": "a934ab3c",
   "metadata": {},
   "outputs": [],
   "source": [
    "df['Company'].value_counts()"
   ]
  },
  {
   "cell_type": "markdown",
   "id": "d05b537e",
   "metadata": {},
   "source": [
    "### Wow so many companies, but we are only going to focus on those that appear in a notible volume,  lets focus on ones that have 20 or more laptops in this dataset"
   ]
  },
  {
   "cell_type": "markdown",
   "id": "f535f5e9",
   "metadata": {},
   "source": [
    "### Show me thoes stats for each currency "
   ]
  },
  {
   "cell_type": "code",
   "execution_count": null,
   "id": "030f23bc",
   "metadata": {},
   "outputs": [],
   "source": [
    "gb_comp1 = df.groupby('Company').filter(lambda x: x['Product'].count() > 20)\n",
    "price_per_comp = gb_comp1.groupby('Company')['Price_EUR']\n",
    "describe(price_per_comp)"
   ]
  },
  {
   "cell_type": "code",
   "execution_count": null,
   "id": "3a3e5cdf",
   "metadata": {},
   "outputs": [],
   "source": [
    "price_per_comp = gb_comp1.groupby('Company')['Price_USD']\n",
    "describe(price_per_comp)"
   ]
  },
  {
   "cell_type": "code",
   "execution_count": null,
   "id": "56112b1e",
   "metadata": {},
   "outputs": [],
   "source": [
    "price_per_comp = gb_comp1.groupby('Company')['Price_GBP']\n",
    "describe(price_per_comp)"
   ]
  },
  {
   "cell_type": "markdown",
   "id": "88cd7930",
   "metadata": {},
   "source": [
    "### Okay, I can see the numbers, but let's *really* see the data with the distrubution"
   ]
  },
  {
   "cell_type": "code",
   "execution_count": null,
   "id": "16174fa9",
   "metadata": {},
   "outputs": [],
   "source": [
    "x_axis = ['Price_EUR', 'Price_USD', 'Price_GBP']\n",
    "fig, axes = plt.subplots(3, 8, figsize=(25, 10))\n",
    "#https://stackoverflow.com/questions/45823078/how-to-sync-colors-across-subplots-of-different-types for palette = itertools.cycle(sns.color_palette())\n",
    "for x in range(len(x_axis)):\n",
    "    bins = range(int(df[x_axis[x]].min()), int(df[x_axis[x]].max()), int(df[x_axis[x]].median()) // 20)\n",
    "    palette = itertools.cycle(sns.color_palette(\"husl\", 9))\n",
    "    for y in range(len(gb_comp1['Company'].unique())):\n",
    "        comp_name = gb_comp1['Company'].unique()[y] \n",
    "        if x == 0: \n",
    "            sns.histplot(bins=bins, data=gb_comp1[gb_comp1['Company'] == comp_name], x=x_axis[x], ax=axes[x][y], color=next(palette)).set_title(f'Distrubtion of Prices for {comp_name}')\n",
    "        else:  \n",
    "            sns.histplot(bins=bins, data=gb_comp1[gb_comp1['Company'] == comp_name], x=x_axis[x], ax=axes[x][y], color=next(palette))\n",
    "plt.subplots_adjust(hspace = .5, wspace=1.5)\n",
    "plt.suptitle('Distrubtion of Prices by Brand')\n",
    "plt.tight_layout()"
   ]
  },
  {
   "cell_type": "markdown",
   "id": "d9ac22c7",
   "metadata": {},
   "source": [
    "## Companies Summary\n",
    "   - The widest range of prices? \n",
    "       - Levono, it has the highest range stat and is the most apperent company in the modified data set.\n",
    "   - The narrowest range of prices? \n",
    "       - Apple, it has the lowest range and is the least apperent company in the modified data set.\n",
    "   - Which has most expensive prices?\n",
    "       - From the graphs shown it seems to be Dell, the highest concentration of prices above $2000 that seems a bit spread out.\n",
    "   - Which has most cheapest prices?\n",
    "        - Acer, it has the lowest maximum and minimum.\n",
    "   - Do any distribution change with currencies?\n",
    "       - No the shape of graph is the same in each column the scale and labels are the only changes.\n",
    "   - Is Anything else notible \n",
    "       - std of all companys are high perrty high"
   ]
  },
  {
   "cell_type": "markdown",
   "id": "1b9050d3",
   "metadata": {},
   "source": [
    "## GPU_TYPE"
   ]
  },
  {
   "cell_type": "code",
   "execution_count": null,
   "id": "b64dac47",
   "metadata": {},
   "outputs": [],
   "source": [
    "df['GPU_TYPE'].value_counts()"
   ]
  },
  {
   "cell_type": "markdown",
   "id": "e18c30c2",
   "metadata": {},
   "source": [
    "### No Need to See ARM GUP_TYPE since there is only one"
   ]
  },
  {
   "cell_type": "code",
   "execution_count": null,
   "id": "878edb81",
   "metadata": {},
   "outputs": [],
   "source": [
    "gb_comp2 = df.groupby('GPU_TYPE').filter(lambda x: x['Product'].count() > 5)\n",
    "price_per_gpu = gb_comp2.groupby('GPU_TYPE')['Price_EUR']\n",
    "describe(price_per_gpu)"
   ]
  },
  {
   "cell_type": "code",
   "execution_count": null,
   "id": "6f855bcd",
   "metadata": {},
   "outputs": [],
   "source": [
    "price_per_gpu = gb_comp2.groupby('GPU_TYPE')['Price_USD']\n",
    "describe(price_per_gpu)"
   ]
  },
  {
   "cell_type": "code",
   "execution_count": null,
   "id": "7ab3a594",
   "metadata": {},
   "outputs": [],
   "source": [
    "price_per_gpu = gb_comp2.groupby('GPU_TYPE')['Price_GBP']\n",
    "describe(price_per_gpu)"
   ]
  },
  {
   "cell_type": "markdown",
   "id": "a827a64d",
   "metadata": {},
   "source": [
    "### Okay, I can see the numbers, but let's **really** see the data with the distrubution"
   ]
  },
  {
   "cell_type": "code",
   "execution_count": null,
   "id": "4b3cb91f",
   "metadata": {
    "scrolled": true
   },
   "outputs": [],
   "source": [
    "fig, axes = plt.subplots(3, 3, figsize=(15, 10))\n",
    "for x in range(len(x_axis)):\n",
    "    palette = itertools.cycle(sns.color_palette())\n",
    "    bins = range(int(df[x_axis[x]].min()), int(df[x_axis[x]].max()), int(df[x_axis[x]].median()) // 20)\n",
    "    for y in range(len(gb_comp2['GPU_TYPE'].unique())):\n",
    "        gpu_type = gb_comp2['GPU_TYPE'].unique()[y] \n",
    "        if x== 0: sns.histplot(bins=bins, data=gb_comp2[gb_comp2['GPU_TYPE'] == gpu_type], x=x_axis[x], ax=axes[x][y], color=next(palette)).set_title(f'Distrubtion of Prices for {gpu_type}')\n",
    "        else: sns.histplot(bins=bins, data=gb_comp2[gb_comp2['GPU_TYPE'] == gpu_type], x=x_axis[x], ax=axes[x][y], color=next(palette))\n",
    "plt.subplots_adjust(hspace = 0.5)\n",
    "plt.suptitle('Distrubtion of Prices by Gpu Type')\n",
    "plt.tight_layout()"
   ]
  },
  {
   "cell_type": "markdown",
   "id": "99edaec7",
   "metadata": {},
   "source": [
    "### Although the graphs are all the same relative shape,  Nvidia's distrubution is different, Let's overlap the distrubution"
   ]
  },
  {
   "cell_type": "code",
   "execution_count": null,
   "id": "e6155a67",
   "metadata": {},
   "outputs": [],
   "source": [
    "#dsc-pandas-eda-lab\n",
    "fig, ax = plt.subplots(figsize=(15,5))\n",
    "cmap1 = mpl.colors.ListedColormap(sns.color_palette(\"husl\", 9), N=3)\n",
    "bins = range(int(df['Price_USD'].min()), int(df['Price_USD'].max()), int(df['Price_USD'].median()) // 20)\n",
    "for y in range(len(gb_comp2['GPU_TYPE'].unique())):\n",
    "    gpu_type = gb_comp2['GPU_TYPE'].unique()[y] \n",
    "    ax.hist(\n",
    "        x=gb_comp2[gb_comp2['GPU_TYPE'] == gpu_type]['Price_USD'],\n",
    "        label=gpu_type,\n",
    "        bins=bins,\n",
    "    )\n",
    "\n",
    "# Customize labels\n",
    "ax.set_title(\"Laptops with Nvidia's GPU are more expenive overall then other GPUs\")\n",
    "ax.set_xlabel(\"Price in USD\")\n",
    "ax.set_ylabel(\"Number of Laptops\")\n",
    "ax.legend();"
   ]
  },
  {
   "cell_type": "markdown",
   "id": "017625c4",
   "metadata": {},
   "source": [
    "### Laptops with Nvidia have prices that are concentrated at higher end of the other GPUs"
   ]
  },
  {
   "cell_type": "markdown",
   "id": "774099ec",
   "metadata": {},
   "source": [
    "## GPU Summary\n",
    "   - The widest range of prices? \n",
    "       - Nvidia Laptops ranges from about $400 to $5500, and according to the graph it is just a spread out as Intel\n",
    "   - The narrowest range of prices? \n",
    "       - AMD and Intel both range from about $150 to $2500, but most AMD laptops seem more concentrated $300 to $1550 then Intel is according to the graph\n",
    "   - Which has most expensive prices?\n",
    "       - Nvidia, See graph above\n",
    "   - Which has most cheapest prices?\n",
    "        - AMD and Intel have similar ranges, but as mentioned before AMD laptops seem more concentrated $300 to $1550 then Intel\n",
    "   - Do any distribution change with currencies?\n",
    "       - No the shape of graph is the same in each column the scale and labels are the only changes.\n",
    "   - Is Anything else notible \n",
    "       - Nvidia's high cost. "
   ]
  },
  {
   "cell_type": "markdown",
   "id": "f2116e9f",
   "metadata": {},
   "source": [
    "## Laptop Types"
   ]
  },
  {
   "cell_type": "code",
   "execution_count": null,
   "id": "ba5796f3",
   "metadata": {},
   "outputs": [],
   "source": [
    "df['TypeName'].value_counts()"
   ]
  },
  {
   "cell_type": "markdown",
   "id": "1fe5b239",
   "metadata": {},
   "source": [
    "### There is dispositionally less Workstation and Netbook Laptops, let's get rid of them"
   ]
  },
  {
   "cell_type": "code",
   "execution_count": null,
   "id": "f3a54348",
   "metadata": {},
   "outputs": [],
   "source": [
    "gb_comp3 = df.groupby('TypeName').filter(lambda x: x['Product'].count() > 30)\n",
    "price_per_type = gb_comp3.groupby('TypeName')['Price_EUR']\n",
    "describe(price_per_type)"
   ]
  },
  {
   "cell_type": "code",
   "execution_count": null,
   "id": "a8d53d82",
   "metadata": {},
   "outputs": [],
   "source": [
    "price_per_type = gb_comp3.groupby('TypeName')['Price_USD']\n",
    "describe(price_per_type)"
   ]
  },
  {
   "cell_type": "code",
   "execution_count": null,
   "id": "926d4b39",
   "metadata": {},
   "outputs": [],
   "source": [
    "price_per_tpye = gb_comp3.groupby('TypeName')['Price_GBP']\n",
    "describe(price_per_type)"
   ]
  },
  {
   "cell_type": "markdown",
   "id": "92254f48",
   "metadata": {},
   "source": [
    "### Okay, I can see the numbers, but let's *really* see the data with the distrubution"
   ]
  },
  {
   "cell_type": "code",
   "execution_count": null,
   "id": "a833d4c1",
   "metadata": {},
   "outputs": [],
   "source": [
    "fig, axes = plt.subplots(3, 4, figsize=(15, 10))\n",
    "for x in range(len(x_axis)):\n",
    "    palette = itertools.cycle(sns.color_palette(\"husl\", 9))\n",
    "    bins = range(int(df[x_axis[x]].min()), int(df[x_axis[x]].max()), int(df[x_axis[x]].median()) // 20)\n",
    "    for y in range(len(gb_comp3['TypeName'].unique())):\n",
    "        laptop_type = gb_comp3['TypeName'].unique()[y] \n",
    "        if x== 0: sns.histplot(bins=bins, data=gb_comp3[gb_comp3['TypeName'] == laptop_type], x=x_axis[x], ax=axes[x][y], color=next(palette)).set_title(f'Distrubtion of Prices for {laptop_type}')\n",
    "        else: sns.histplot(bins=bins, data=gb_comp3[gb_comp3['TypeName'] == laptop_type], x=x_axis[x], ax=axes[x][y], color=next(palette))\n",
    "plt.subplots_adjust(hspace = 0.5)\n",
    "plt.suptitle('Distrubtion of Prices by Laptop Type')\n",
    "plt.tight_layout()"
   ]
  },
  {
   "cell_type": "markdown",
   "id": "044ca1cb",
   "metadata": {},
   "source": [
    "## Laptop Types Summary\n",
    "   - The widest range of prices? \n",
    "       - Gaming Laptops have the highest range and std\n",
    "   - The narrowest range of prices? \n",
    "       - Ultrabook has both the second lowest range and second lowest std.\n",
    "   - Which has most expensive prices?\n",
    "       - Gaming Laptops, higest min and max\n",
    "   - Which has most cheapest prices?\n",
    "        - 2 in 1 Convertible have lowest max and the second to lowest min\n",
    "   - Do any distribution change with currencies?\n",
    "       - No the shape of graph is the same in each column the scale and labels are the only changes.\n",
    "   - Is Anything else notible \n",
    "       - Gaming laptops have much higher prices with it's distrbution, but not as dispositionally as Nivida in GPUs"
   ]
  },
  {
   "cell_type": "markdown",
   "id": "e89625ec",
   "metadata": {},
   "source": [
    "## Memory Type"
   ]
  },
  {
   "cell_type": "code",
   "execution_count": null,
   "id": "ce5ee9e3",
   "metadata": {},
   "outputs": [],
   "source": [
    "df['Memory_TYPE'].value_counts()"
   ]
  },
  {
   "cell_type": "markdown",
   "id": "79c39cf8",
   "metadata": {},
   "source": [
    "### There is dispositionally less Flash Storage Laptops, let's get rid of them"
   ]
  },
  {
   "cell_type": "code",
   "execution_count": null,
   "id": "ccdd0933",
   "metadata": {},
   "outputs": [],
   "source": [
    "gb_comp4 = df.groupby('Memory_TYPE').filter(lambda x: x['Product'].count() > 75)\n",
    "price_per_mem = gb_comp4.groupby('Memory_TYPE')['Price_EUR']\n",
    "describe(price_per_mem)"
   ]
  },
  {
   "cell_type": "code",
   "execution_count": null,
   "id": "a17180eb",
   "metadata": {},
   "outputs": [],
   "source": [
    "price_per_mem = gb_comp4.groupby('Memory_TYPE')['Price_USD']\n",
    "describe(price_per_mem)"
   ]
  },
  {
   "cell_type": "code",
   "execution_count": null,
   "id": "150bdeb2",
   "metadata": {},
   "outputs": [],
   "source": [
    "price_per_mem = gb_comp4.groupby('Memory_TYPE')['Price_GBP']\n",
    "describe(price_per_mem)"
   ]
  },
  {
   "cell_type": "markdown",
   "id": "c40777ed",
   "metadata": {},
   "source": [
    "### Okay, I can see the numbers, but let's really see the data with the distrubution"
   ]
  },
  {
   "cell_type": "code",
   "execution_count": null,
   "id": "82d97ed9",
   "metadata": {},
   "outputs": [],
   "source": [
    "fig, axes = plt.subplots(3, 3, figsize=(15, 10))\n",
    "for x in range(len(x_axis)):\n",
    "    palette = itertools.cycle(sns.color_palette(\"husl\", 9))\n",
    "    bins = range(int(df[x_axis[x]].min()), int(df[x_axis[x]].max()), int(df[x_axis[x]].median()) // 20)\n",
    "    for y in range(len(gb_comp4['Memory_TYPE'].unique())):\n",
    "        mem_type = gb_comp4['Memory_TYPE'].unique()[y] \n",
    "        if x== 0: sns.histplot(bins=bins, data=gb_comp4[gb_comp4['Memory_TYPE'] == mem_type], x=x_axis[x], ax=axes[x][y], color=next(palette)).set_title(f'Distrubtion of Prices for {mem_type}')\n",
    "        else: sns.histplot(bins=bins, data=gb_comp4[gb_comp4['Memory_TYPE'] == mem_type], x=x_axis[x], ax=axes[x][y], color=next(palette))\n",
    "plt.subplots_adjust(hspace = 0.5)\n",
    "plt.suptitle('Distrubtion of Prices by Memory Type')\n",
    "plt.tight_layout()"
   ]
  },
  {
   "cell_type": "markdown",
   "id": "f2ca8999",
   "metadata": {},
   "source": [
    "## Memory Types Summary\n",
    "   - The widest range of prices? \n",
    "       - SSD have the highest range and std\n",
    "   - The narrowest range of prices? \n",
    "       - HDD lowest range and second lowest std.\n",
    "   - Which has most expensive prices?\n",
    "       - According the graphs there is a high concentration of prices from $1000 to $3000 in Hybrid\n",
    "   - Which has most cheapest prices?\n",
    "        - HDD has a narrow range and it's mainly fixed from $200 to $1000\n",
    "   - Do any distribution change with currencies?\n",
    "       - No the shape of graph is the same in each column the scale and labels are the only changes.\n",
    "   - Is Anything else notible \n",
    "       - Hybrid laptops have much higher prices with it's distrbution, but not as dispositionally as Nivida in GPUs or a Gaming Laptops"
   ]
  },
  {
   "cell_type": "markdown",
   "id": "9c37131f",
   "metadata": {},
   "source": [
    "# Data Exploratory Analysis Part 1 Summary\n",
    "\n",
    "## Major Finds\n",
    "   - There is wide range of Levono laptops in terms of price\n",
    "   - Nvidia GPU laptops have a highest price range out any GPUs\n",
    "   - Gaming laptops have highest price range out any type"
   ]
  },
  {
   "cell_type": "markdown",
   "id": "648473c9",
   "metadata": {},
   "source": [
    "## Why isnt there anything on OpSys or CPU_TYPE\n",
    "\n",
    " Intel dominates CPU_TYPE and Windows 10 dominates OpSys by about least 80%. Making it hard to get any meaningful insights on them"
   ]
  },
  {
   "cell_type": "markdown",
   "id": "52802650",
   "metadata": {},
   "source": [
    "# Data Exploratory Analysis Part 2\n",
    "\n",
    "## Let's answer the following\n",
    "   - Out the columns analyised perviously, which combination of them appear most offen?\n",
    "   - Which of the these laptops in the data set are more luxury products?"
   ]
  },
  {
   "cell_type": "code",
   "execution_count": null,
   "id": "06fc90a8",
   "metadata": {},
   "outputs": [],
   "source": [
    "df_mod1 = df.groupby(['Company','GPU_TYPE','TypeName', 'Memory_TYPE']).filter(lambda x: x['Product'].count() > 30)\n",
    "df_mod1.groupby(['Company','GPU_TYPE','TypeName', 'Memory_TYPE'])[['Product']].count()"
   ]
  },
  {
   "cell_type": "markdown",
   "id": "dc06567c",
   "metadata": {},
   "source": [
    "### It seems when we group all four HP Notebooks in both HDD and SSD appears the most in this data set with Lenovo SSD Notebooks coming in between the two for second, but what if we remove Memory Type? "
   ]
  },
  {
   "cell_type": "code",
   "execution_count": null,
   "id": "960cf36a",
   "metadata": {},
   "outputs": [],
   "source": [
    "df_mod2 = df.groupby(['Company','GPU_TYPE','TypeName']).filter(lambda x: x['Product'].count() > 30)\n",
    "df_mod2.groupby(['Company','GPU_TYPE','TypeName'])[['Product']].count()"
   ]
  },
  {
   "cell_type": "markdown",
   "id": "04b90f59",
   "metadata": {},
   "source": [
    "### It seems that  HP Notebooks still appear the most,  what if we remove Type?"
   ]
  },
  {
   "cell_type": "code",
   "execution_count": null,
   "id": "8f327885",
   "metadata": {},
   "outputs": [],
   "source": [
    "df_mod3 = df.groupby(['Company','GPU_TYPE']).filter(lambda x: x['Product'].count() > 30)\n",
    "df_mod3.groupby(['Company','GPU_TYPE'])[['Product']].count()"
   ]
  },
  {
   "cell_type": "markdown",
   "id": "5ee289cf",
   "metadata": {},
   "source": [
    "### Now Levono appears most"
   ]
  },
  {
   "cell_type": "markdown",
   "id": "fea594ac",
   "metadata": {},
   "source": [
    "### It seems that if someone is looking for Notebook Type Laptops they have bit more choice in laptops if they chose HP"
   ]
  },
  {
   "cell_type": "markdown",
   "id": "34a11380",
   "metadata": {},
   "source": [
    "### Let's see our 10 top most expenvise laptops "
   ]
  },
  {
   "cell_type": "code",
   "execution_count": null,
   "id": "ff936230",
   "metadata": {},
   "outputs": [],
   "source": [
    "pd.set_option('display.max_columns', None)\n",
    "df.sort_values(by=['Price_USD'],ascending=False).head(10)"
   ]
  },
  {
   "cell_type": "markdown",
   "id": "878ba9f7",
   "metadata": {},
   "source": [
    "### Razer takes up the the top 2 spots, we did not look into razer perivously because there were not that many. Not only that, but other types we did not analyze pervious like workstation for the same reason"
   ]
  },
  {
   "cell_type": "markdown",
   "id": "19a3e932",
   "metadata": {},
   "source": [
    "### However, lets look at our filltered data for just more common combinations of Companies, GPU_TYPES, and Laptop Types  "
   ]
  },
  {
   "cell_type": "code",
   "execution_count": null,
   "id": "ec1530bd",
   "metadata": {
    "scrolled": true
   },
   "outputs": [],
   "source": [
    "df_mod2.sort_values(by=['Price_USD'],ascending=False).head(10)"
   ]
  },
  {
   "cell_type": "markdown",
   "id": "f60e3a42",
   "metadata": {},
   "source": [
    "### We see that Dell's \tAlienware 17 takes up most of the spots. "
   ]
  },
  {
   "cell_type": "markdown",
   "id": "f3c66560",
   "metadata": {},
   "source": [
    "### Let's add the Memory Type to the fillter as well"
   ]
  },
  {
   "cell_type": "code",
   "execution_count": null,
   "id": "dccb137f",
   "metadata": {},
   "outputs": [],
   "source": [
    "df_mod1.sort_values(by=['Price_USD'],ascending=False).head(10)"
   ]
  },
  {
   "cell_type": "markdown",
   "id": "c98fbaeb",
   "metadata": {},
   "source": [
    "### Half of the spots are taken up by MSI Gaming Laptops"
   ]
  },
  {
   "cell_type": "markdown",
   "id": "c5a86311",
   "metadata": {},
   "source": [
    "# Data Exploratory Analysis Part 2 Summary\n",
    "\n",
    "## Let's Review\n",
    "   - Out the columns analyised perviously, which combination of them appear most offen?\n",
    "       - HP Notebooks\n",
    "   - Which of the these laptops in the data set are more luxury products?\n",
    "       - Mainly Gaming Laptops such as Razer's Blade Pro, Dell's Alienware 17, and various MSI Laptops"
   ]
  },
  {
   "cell_type": "markdown",
   "id": "57a46208",
   "metadata": {},
   "source": [
    "# Data Exploratory Analysis Part 3\n",
    "\n",
    "## Let's answer the following\n",
    "   - What is the most common Extra Specs on screens\n",
    "   - Which one of Extra Specs on screens belgon to more expenive laptops"
   ]
  },
  {
   "cell_type": "markdown",
   "id": "2a9ceeb0",
   "metadata": {},
   "source": [
    "### First, let's only consider specs that can be found on a noticeable amount of laptops in the data set"
   ]
  },
  {
   "cell_type": "code",
   "execution_count": null,
   "id": "477d47b8",
   "metadata": {},
   "outputs": [],
   "source": [
    "gb_comp5 = df.explode('Screen_Extra_Specs').groupby('Screen_Extra_Specs').filter(lambda x: x['Product'].count() > 30)\n",
    "describe(gb_comp5.explode('Screen_Extra_Specs').groupby('Screen_Extra_Specs')['Price_EUR'])"
   ]
  },
  {
   "cell_type": "code",
   "execution_count": null,
   "id": "8c78884b",
   "metadata": {},
   "outputs": [],
   "source": [
    "describe(gb_comp5.explode('Screen_Extra_Specs').groupby('Screen_Extra_Specs')['Price_USD'])"
   ]
  },
  {
   "cell_type": "code",
   "execution_count": null,
   "id": "65146b21",
   "metadata": {},
   "outputs": [],
   "source": [
    "describe(gb_comp5.explode('Screen_Extra_Specs').groupby('Screen_Extra_Specs')['Price_GBP'])"
   ]
  },
  {
   "cell_type": "code",
   "execution_count": null,
   "id": "0cb4b3e8",
   "metadata": {},
   "outputs": [],
   "source": [
    "gb_comp5.explode('Screen_Extra_Specs')['Screen_Extra_Specs']"
   ]
  },
  {
   "cell_type": "markdown",
   "id": "2df072b8",
   "metadata": {},
   "source": [
    "### Okay, I can see the numbers, but let's really see the data with the distrubution"
   ]
  },
  {
   "cell_type": "code",
   "execution_count": null,
   "id": "eed1acf7",
   "metadata": {},
   "outputs": [],
   "source": [
    "y_axis = gb_comp5.explode('Screen_Extra_Specs')['Screen_Extra_Specs'].unique()\n",
    "fig, axes = plt.subplots(3, len(y_axis), figsize=(25, 10))\n",
    "for x in range(len(x_axis)):\n",
    "    palette = itertools.cycle(sns.color_palette(\"husl\", 9))\n",
    "    bins = range(int(df[x_axis[x]].min()), int(df[x_axis[x]].max()), int(df[x_axis[x]].median()) // 20)\n",
    "    for y in range(len(y_axis)):\n",
    "        feat = y_axis[y] \n",
    "        if x== 0: sns.histplot(bins=bins, data=gb_comp5[gb_comp5['Screen_Extra_Specs'].apply(lambda c: feat in c)], x=x_axis[x], ax=axes[x][y], color=next(palette)).set_title(f'Distrubtion of Prices for {feat}')\n",
    "        else: sns.histplot(bins=bins, data=gb_comp5[gb_comp5['Screen_Extra_Specs'].apply(lambda c: feat in c)], x=x_axis[x], ax=axes[x][y], color=next(palette))\n",
    "plt.subplots_adjust(hspace = 0.5)\n",
    "plt.suptitle('Distrubtion of Prices by Laptop Feats')\n",
    "plt.tight_layout()"
   ]
  },
  {
   "cell_type": "markdown",
   "id": "c447abd7",
   "metadata": {},
   "source": [
    "### It hard to tell from the meterics and these graphs provided if 4K Ultra HD or Touchscreen is the spec that expenive laptops have\n",
    "   - It could be both since a laptop can have both"
   ]
  },
  {
   "cell_type": "markdown",
   "id": "22576572",
   "metadata": {},
   "source": [
    "### Lets take a closer look"
   ]
  },
  {
   "cell_type": "code",
   "execution_count": null,
   "id": "71f8b091",
   "metadata": {},
   "outputs": [],
   "source": [
    "print(y_axis)"
   ]
  },
  {
   "cell_type": "code",
   "execution_count": null,
   "id": "0e47a651",
   "metadata": {},
   "outputs": [],
   "source": [
    "#dsc-pandas-eda-lab\n",
    "fig, ax = plt.subplots(figsize=(15,5))\n",
    "cmap1 = mpl.colors.ListedColormap(sns.color_palette(\"husl\", 9), N=3)\n",
    "bins = range(int(gb_comp5['Price_USD'].min()), int(gb_comp5['Price_USD'].max()), int(gb_comp5['Price_USD'].median()) // 20)\n",
    "for y in range(len(y_axis))[2:]:\n",
    "    feat = y_axis[y]\n",
    "    ax.hist(\n",
    "        x=gb_comp5[gb_comp5['Screen_Extra_Specs'] == feat]['Price_USD'],\n",
    "        label=feat,\n",
    "        bins=bins,\n",
    "    )\n",
    "# Customize labels\n",
    "ax.set_title(\"Distrubtion of Prices by Gpu Type (Overlap)\")\n",
    "ax.set_xlabel(\"Price in USD\")\n",
    "ax.set_ylabel(\"Number of Laptops\")\n",
    "ax.legend();"
   ]
  },
  {
   "cell_type": "markdown",
   "id": "98fdbe9b",
   "metadata": {},
   "source": [
    "### Even Closer"
   ]
  },
  {
   "cell_type": "code",
   "execution_count": null,
   "id": "3db757ef",
   "metadata": {},
   "outputs": [],
   "source": [
    "fig, ax = plt.subplots(figsize=(15,5))\n",
    "cmap1 = mpl.colors.ListedColormap(sns.color_palette(\"husl\", 9), N=3)\n",
    "bins = range(int(gb_comp5['Price_USD'].min()), int(gb_comp5['Price_USD'].max()), int(gb_comp5['Price_USD'].median()) // 20)\n",
    "for y in range(len(y_axis))[2:]:\n",
    "    feat = y_axis[y] \n",
    "    ax.hist(\n",
    "        x=gb_comp5[gb_comp5['Screen_Extra_Specs'] == feat]['Price_USD'],\n",
    "        label=feat,\n",
    "        bins=bins,\n",
    "    )\n",
    "\n",
    "# Customize labels\n",
    "ax.set_title('Zoom in on the high price that  4K Ultra HD Brings')\n",
    "ax.set_xlabel(\"Price in USD\")\n",
    "ax.set_ylabel(\"Number of Laptops\")\n",
    "plt.ylim(0,10)\n",
    "ax.legend();"
   ]
  },
  {
   "cell_type": "markdown",
   "id": "ded9184b",
   "metadata": {},
   "source": [
    "### The 4K Ultra HD seems to be on more high-end priced laptops than the Touchscreen "
   ]
  },
  {
   "cell_type": "markdown",
   "id": "7fca2c4a",
   "metadata": {},
   "source": [
    "# Data Exploratory Analysis Part 3\n",
    "\n",
    "## Let's Review\n",
    "   - What is the most common Extra Specs on screens\n",
    "       - Full HD\n",
    "   - Which one of Extra Specs on screens belgon to more expenive laptops\n",
    "       - 4K Ultra HD "
   ]
  },
  {
   "cell_type": "markdown",
   "id": "4f01af57",
   "metadata": {},
   "source": [
    "# Data Exploratory Analysis Part 4\n",
    "\n",
    "## Let's answer the following\n",
    "   - For the numerical meteric feature let's find the following:\n",
    "      - Which has the highest correlation to price?\n",
    "      - Which has the lowest correlation to price?\n",
    "      - Dose correlation differ with currency?"
   ]
  },
  {
   "cell_type": "markdown",
   "id": "d3d2c669",
   "metadata": {},
   "source": [
    "### Let's define the numerical meteric "
   ]
  },
  {
   "cell_type": "code",
   "execution_count": null,
   "id": "2bb182c8",
   "metadata": {},
   "outputs": [],
   "source": [
    "meterics = ['CMs', 'Pixel_Area', 'Clock_Speed(GHz)', 'Weight(kgs)', 'RAM(GBs)', 'Specs_Count']"
   ]
  },
  {
   "cell_type": "markdown",
   "id": "97a0c220",
   "metadata": {},
   "source": [
    "### Produce their correlations to prices of all currency"
   ]
  },
  {
   "cell_type": "code",
   "execution_count": null,
   "id": "54ded669",
   "metadata": {},
   "outputs": [],
   "source": [
    "df[meterics + x_axis].corr()[x_axis][:-3].style.background_gradient(cmap='Reds', vmin=0, vmax=1)"
   ]
  },
  {
   "cell_type": "markdown",
   "id": "3d4032d0",
   "metadata": {},
   "source": [
    "### Highest correlation goes to RAM and Lowest is diagonal screen size in CMs"
   ]
  },
  {
   "cell_type": "markdown",
   "id": "d9436045",
   "metadata": {},
   "source": [
    "### Let's see these correlations through a scatter plot"
   ]
  },
  {
   "cell_type": "code",
   "execution_count": null,
   "id": "317b128a",
   "metadata": {},
   "outputs": [],
   "source": [
    "fig, axes = plt.subplots(3, 6, figsize=(20, 10))\n",
    "for x in range(len(x_axis)):\n",
    "    palette = itertools.cycle(sns.color_palette(\"husl\", 9))\n",
    "    for y in range(len(meterics)):\n",
    "        meteric = meterics[y] \n",
    "        sns.scatterplot(data=df, x=x_axis[x], y=meteric, ax=axes[x][y], color=next(palette)).set_title(f'{meteric} in Relation to {x_axis[x]}')\n",
    "plt.subplots_adjust(hspace = 3, wspace=3)\n",
    "plt.suptitle('Meterics in Relation to Pricing')\n",
    "plt.tight_layout()"
   ]
  },
  {
   "cell_type": "markdown",
   "id": "bd753e6c",
   "metadata": {},
   "source": [
    "### Oh, I do not like that outliar in the RAM Column, let's try agian with out it"
   ]
  },
  {
   "cell_type": "code",
   "execution_count": null,
   "id": "3d38faa2",
   "metadata": {},
   "outputs": [],
   "source": [
    "df_mod2 = df[df[\"RAM(GBs)\"] < 60]"
   ]
  },
  {
   "cell_type": "code",
   "execution_count": null,
   "id": "34e71a3c",
   "metadata": {},
   "outputs": [],
   "source": [
    "df_mod2[meterics + x_axis].corr()[x_axis][:-3].style.background_gradient(cmap='Reds', vmin=0, vmax=1)"
   ]
  },
  {
   "cell_type": "code",
   "execution_count": null,
   "id": "cf463c99",
   "metadata": {},
   "outputs": [],
   "source": [
    "fig, axes = plt.subplots(3, 6, figsize=(20, 10))\n",
    "for x in range(len(x_axis)):\n",
    "    palette = itertools.cycle(sns.color_palette(\"husl\", 9))\n",
    "    for y in range(len(meterics)):\n",
    "        meteric = meterics[y] \n",
    "        sns.scatterplot(data=df_mod2, x=x_axis[x], y=meteric, ax=axes[x][y], color=next(palette)).set_title(f'{meteric} in Relation to {x_axis[x]}')\n",
    "plt.subplots_adjust(hspace = 3, wspace=3)\n",
    "plt.suptitle('Meterics in Relation to Pricing')\n",
    "plt.tight_layout()"
   ]
  },
  {
   "cell_type": "markdown",
   "id": "4c69ab6e",
   "metadata": {},
   "source": [
    "### Nothing to dramatic changed"
   ]
  },
  {
   "cell_type": "markdown",
   "id": "d477a6c9",
   "metadata": {},
   "source": [
    "# Data Exploratory Analysis Part 4\n",
    "\n",
    "## Let's Review \n",
    "   - For the numerical meteric feature let's find the following:\n",
    "      - Which has the highest correlation to price?\n",
    "          - RAM (GBs)\n",
    "      - Which has the lowest correlation to price?\n",
    "          - CMs aka diagonal screen size in CMs\n",
    "      - Dose correlation differ with currency?\n",
    "          - Not even a bit"
   ]
  },
  {
   "cell_type": "markdown",
   "id": "a89ec545",
   "metadata": {},
   "source": [
    "# Summary\n",
    "\n",
    "## Inferances \n",
    "   - Gaming Laptops or Laptops with Nvidia GPU are way more expenive than most Laptops\n",
    "   - The Companies with more Laptops have bigger varity and ranges of prices\n",
    "   - A Laptop's RAM affects the price \n",
    "   \n",
    "\n",
    "## What more can be done\n",
    "   - Take out the outlairs in price and see if the inferances still stand\n",
    "   - More data on\n",
    "       - For each laptop how many were solded\n",
    "       - For each laptop what was VAT tax credit the comapny got back after selling the laptop\n",
    "       - Shipping costs if any\n",
    "   \n",
    "## Recommentions for a store \n",
    "   - HP, Dell, and Lenovo are most apparent companies on laptops, they should get their own floor space / web page\n",
    "       - Espically Dell with their Alienware products \n",
    "   - Gaming Laptops are the highest priced laptops in general, they too should get their own floor space / web page\n",
    "       - Gaming Latops that should be shown off indepently of companies mentioned above are Razer's Blade Pro and various MSI Laptops\n",
    "    \n",
    "   - Nvidia GPUs, Touchscreens, and 4K Ultra HD should be a seen by the customer as a big plus\n",
    "   - Ram over 12GB should be shown as a big plus\n",
    "   - It is not worth it to show up a laptops \"sleek\" (light or airy) degisn that does not make the laptop valuable \n",
    "\n",
    "\n",
    "## Recommention for a customer\n",
    "   - Varity of price can be found in eith Notebook Laptops or in Lenovo Laptops\n",
    "   - Get ready to pay big for Nvidia GPUs / Gaming Laptops\n",
    "   - More RAM == More money\n",
    "   - somthing sleek is not more $$ get whatever size you want, you will not have to pay extra\n",
    "   "
   ]
  }
 ],
 "metadata": {
  "kernelspec": {
   "display_name": "Python (learn-env)",
   "language": "python",
   "name": "learn-env"
  },
  "language_info": {
   "codemirror_mode": {
    "name": "ipython",
    "version": 3
   },
   "file_extension": ".py",
   "mimetype": "text/x-python",
   "name": "python",
   "nbconvert_exporter": "python",
   "pygments_lexer": "ipython3",
   "version": "3.11.7"
  }
 },
 "nbformat": 4,
 "nbformat_minor": 5
}
